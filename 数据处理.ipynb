{
 "cells": [
  {
   "cell_type": "code",
   "execution_count": 1,
   "id": "3f70f498-af41-475e-be46-84d266fae31e",
   "metadata": {},
   "outputs": [],
   "source": [
    "import pandas as pd\n",
    "import numpy as np\n",
    "import CSF"
   ]
  },
  {
   "cell_type": "code",
   "execution_count": 2,
   "id": "af023d4a-87b9-4b42-bf3c-4bb2ed61a286",
   "metadata": {},
   "outputs": [],
   "source": [
    "data = pd.read_csv(\"dixingpo.txt\")"
   ]
  },
  {
   "cell_type": "code",
   "execution_count": 3,
   "id": "fbf0b951-ee7f-4df5-94ad-e9d8d449f355",
   "metadata": {},
   "outputs": [
    {
     "data": {
      "text/html": [
       "<div>\n",
       "<style scoped>\n",
       "    .dataframe tbody tr th:only-of-type {\n",
       "        vertical-align: middle;\n",
       "    }\n",
       "\n",
       "    .dataframe tbody tr th {\n",
       "        vertical-align: top;\n",
       "    }\n",
       "\n",
       "    .dataframe thead th {\n",
       "        text-align: right;\n",
       "    }\n",
       "</style>\n",
       "<table border=\"1\" class=\"dataframe\">\n",
       "  <thead>\n",
       "    <tr style=\"text-align: right;\">\n",
       "      <th></th>\n",
       "      <th>id</th>\n",
       "      <th>x</th>\n",
       "      <th>y</th>\n",
       "      <th>z</th>\n",
       "    </tr>\n",
       "  </thead>\n",
       "  <tbody>\n",
       "    <tr>\n",
       "      <th>0</th>\n",
       "      <td>0</td>\n",
       "      <td>-24.040</td>\n",
       "      <td>-24.878</td>\n",
       "      <td>-5.222</td>\n",
       "    </tr>\n",
       "    <tr>\n",
       "      <th>1</th>\n",
       "      <td>1</td>\n",
       "      <td>-24.278</td>\n",
       "      <td>-24.836</td>\n",
       "      <td>4.431</td>\n",
       "    </tr>\n",
       "    <tr>\n",
       "      <th>2</th>\n",
       "      <td>2</td>\n",
       "      <td>-23.789</td>\n",
       "      <td>-24.421</td>\n",
       "      <td>-5.149</td>\n",
       "    </tr>\n",
       "    <tr>\n",
       "      <th>3</th>\n",
       "      <td>3</td>\n",
       "      <td>-23.467</td>\n",
       "      <td>-24.876</td>\n",
       "      <td>-5.162</td>\n",
       "    </tr>\n",
       "    <tr>\n",
       "      <th>4</th>\n",
       "      <td>4</td>\n",
       "      <td>-23.260</td>\n",
       "      <td>-24.953</td>\n",
       "      <td>-5.149</td>\n",
       "    </tr>\n",
       "  </tbody>\n",
       "</table>\n",
       "</div>"
      ],
      "text/plain": [
       "   id       x       y      z\n",
       "0   0 -24.040 -24.878 -5.222\n",
       "1   1 -24.278 -24.836  4.431\n",
       "2   2 -23.789 -24.421 -5.149\n",
       "3   3 -23.467 -24.876 -5.162\n",
       "4   4 -23.260 -24.953 -5.149"
      ]
     },
     "execution_count": 3,
     "metadata": {},
     "output_type": "execute_result"
    }
   ],
   "source": [
    "data.head()"
   ]
  },
  {
   "cell_type": "code",
   "execution_count": 4,
   "id": "037949ea-175e-4052-8c2a-f61cabb25846",
   "metadata": {},
   "outputs": [],
   "source": [
    "del data['id']"
   ]
  },
  {
   "cell_type": "code",
   "execution_count": 5,
   "id": "fcf23dfa-17d7-4b04-a047-cb7368dbfdab",
   "metadata": {},
   "outputs": [
    {
     "data": {
      "text/html": [
       "<div>\n",
       "<style scoped>\n",
       "    .dataframe tbody tr th:only-of-type {\n",
       "        vertical-align: middle;\n",
       "    }\n",
       "\n",
       "    .dataframe tbody tr th {\n",
       "        vertical-align: top;\n",
       "    }\n",
       "\n",
       "    .dataframe thead th {\n",
       "        text-align: right;\n",
       "    }\n",
       "</style>\n",
       "<table border=\"1\" class=\"dataframe\">\n",
       "  <thead>\n",
       "    <tr style=\"text-align: right;\">\n",
       "      <th></th>\n",
       "      <th>x</th>\n",
       "      <th>y</th>\n",
       "      <th>z</th>\n",
       "    </tr>\n",
       "  </thead>\n",
       "  <tbody>\n",
       "    <tr>\n",
       "      <th>0</th>\n",
       "      <td>-24.040</td>\n",
       "      <td>-24.878</td>\n",
       "      <td>-5.222</td>\n",
       "    </tr>\n",
       "    <tr>\n",
       "      <th>1</th>\n",
       "      <td>-24.278</td>\n",
       "      <td>-24.836</td>\n",
       "      <td>4.431</td>\n",
       "    </tr>\n",
       "    <tr>\n",
       "      <th>2</th>\n",
       "      <td>-23.789</td>\n",
       "      <td>-24.421</td>\n",
       "      <td>-5.149</td>\n",
       "    </tr>\n",
       "    <tr>\n",
       "      <th>3</th>\n",
       "      <td>-23.467</td>\n",
       "      <td>-24.876</td>\n",
       "      <td>-5.162</td>\n",
       "    </tr>\n",
       "    <tr>\n",
       "      <th>4</th>\n",
       "      <td>-23.260</td>\n",
       "      <td>-24.953</td>\n",
       "      <td>-5.149</td>\n",
       "    </tr>\n",
       "  </tbody>\n",
       "</table>\n",
       "</div>"
      ],
      "text/plain": [
       "        x       y      z\n",
       "0 -24.040 -24.878 -5.222\n",
       "1 -24.278 -24.836  4.431\n",
       "2 -23.789 -24.421 -5.149\n",
       "3 -23.467 -24.876 -5.162\n",
       "4 -23.260 -24.953 -5.149"
      ]
     },
     "execution_count": 5,
     "metadata": {},
     "output_type": "execute_result"
    }
   ],
   "source": [
    "data.head()"
   ]
  },
  {
   "cell_type": "code",
   "execution_count": 6,
   "id": "5b3ca1c3-4a2a-4b32-ac69-3ddd59c1aa4f",
   "metadata": {},
   "outputs": [],
   "source": [
    "data.to_csv('test.txt',sep=' ',index=0,header=0,mode='a')"
   ]
  },
  {
   "cell_type": "markdown",
   "id": "2c2d2143-c3f6-42af-99af-b2d47ff2894a",
   "metadata": {},
   "source": [
    "数据处理的目的：\n",
    "- 将原始数据`dixingpo.txt`添加表头`id` `x` `y` `z`\n",
    "- 使用`pandas`删除第一列的序号\n",
    "- 将数据另存为`test.txt`，间隔符改为`\\t`，方便调用`CSF`类。"
   ]
  },
  {
   "cell_type": "code",
   "execution_count": null,
   "id": "df23717b-d731-4b17-acc1-aeac5f29779d",
   "metadata": {},
   "outputs": [],
   "source": []
  }
 ],
 "metadata": {
  "interpreter": {
   "hash": "e42634819b8c191a5d07eaf23810ff32516dd8d3875f28ec3e488928fbd3c187"
  },
  "kernelspec": {
   "display_name": "Python 3 (ipykernel)",
   "language": "python",
   "name": "python3"
  },
  "language_info": {
   "codemirror_mode": {
    "name": "ipython",
    "version": 3
   },
   "file_extension": ".py",
   "mimetype": "text/x-python",
   "name": "python",
   "nbconvert_exporter": "python",
   "pygments_lexer": "ipython3",
   "version": "3.9.7"
  }
 },
 "nbformat": 4,
 "nbformat_minor": 5
}
