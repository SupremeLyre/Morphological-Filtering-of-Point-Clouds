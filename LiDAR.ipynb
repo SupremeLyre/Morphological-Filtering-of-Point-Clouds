{
 "cells": [
  {
   "cell_type": "code",
   "execution_count": 1,
   "id": "8e5c3130-68e2-4127-a6cb-32defa8580ee",
   "metadata": {},
   "outputs": [
    {
     "name": "stdout",
     "output_type": "stream",
     "text": [
      "Using matplotlib backend: Qt5Agg\n"
     ]
    }
   ],
   "source": [
    "import numpy as np\n",
    "import CSF\n",
    "import matplotlib.pyplot as plt\n",
    "import pandas as pd\n",
    "%matplotlib auto\n",
    "plt.style.available\n",
    "plt.style.use('seaborn')"
   ]
  },
  {
   "cell_type": "markdown",
   "id": "4d30c89a",
   "metadata": {},
   "source": [
    "## 布料模拟法滤波（漆建波，2016）"
   ]
  },
  {
   "cell_type": "code",
   "execution_count": 2,
   "id": "c90b8f4c-702c-4a61-a3e4-3c11b1fd3bf0",
   "metadata": {},
   "outputs": [],
   "source": [
    "csf = CSF.CSF()\n",
    "csf.readPointsFromFile('test.txt')"
   ]
  },
  {
   "cell_type": "code",
   "execution_count": 3,
   "id": "4759c1bc-46f4-4fab-b316-0bceefb0959b",
   "metadata": {},
   "outputs": [],
   "source": [
    "csf.params.bSloopSmooth = False\n",
    "csf.params.cloth_resolution = 0.1"
   ]
  },
  {
   "cell_type": "code",
   "execution_count": 4,
   "id": "36294cde-9a4c-4bee-80ce-66843e90b8aa",
   "metadata": {},
   "outputs": [],
   "source": [
    "ground = CSF.VecInt()  # a list to indicate the index of ground points after calculation\n",
    "non_ground = CSF.VecInt() # a list to indicate the index of non-ground points after calculation\n",
    "csf.do_filtering(ground, non_ground) # do actual filtering.\n",
    "csf.savePoints(ground,\"ground.txt\")"
   ]
  },
  {
   "cell_type": "code",
   "execution_count": 5,
   "id": "0d828218-bb05-4f8a-a688-37ae491df9d9",
   "metadata": {},
   "outputs": [
    {
     "name": "stdout",
     "output_type": "stream",
     "text": [
      "[[-24.04  -24.878  -5.222]\n",
      " [-23.789 -24.421  -5.149]\n",
      " [-23.467 -24.876  -5.162]\n",
      " ...\n",
      " [ 24.823  24.856  -1.203]\n",
      " [ 24.949  24.386  -1.317]\n",
      " [ 24.964  24.5    -0.71 ]]\n"
     ]
    }
   ],
   "source": [
    "data = np.loadtxt('ground.txt')\n",
    "print(data)"
   ]
  },
  {
   "cell_type": "code",
   "execution_count": 6,
   "id": "5b153866-eb87-487a-b026-4bc84b567d2d",
   "metadata": {},
   "outputs": [],
   "source": [
    "origin = np.loadtxt('test.txt')# preprocessed data"
   ]
  },
  {
   "cell_type": "code",
   "execution_count": 7,
   "id": "9dde895f-ca70-4228-8c9d-dfd687768248",
   "metadata": {},
   "outputs": [],
   "source": [
    "ax = plt.axes(projection='3d') "
   ]
  },
  {
   "cell_type": "code",
   "execution_count": 8,
   "id": "3e7595d1-1e21-4144-b37b-b85a0539d6e2",
   "metadata": {},
   "outputs": [
    {
     "data": {
      "text/plain": [
       "[<mpl_toolkits.mplot3d.art3d.Line3D at 0x1c60183ef10>]"
      ]
     },
     "execution_count": 8,
     "metadata": {},
     "output_type": "execute_result"
    }
   ],
   "source": [
    "ax.plot(origin[:,0],origin[:,1],origin[:,2],'.',markersize=0.5)\n",
    "ax.plot(data[:,0],data[:,1],data[:,2],'r.',markersize=0.5)"
   ]
  },
  {
   "cell_type": "markdown",
   "id": "f2dfb385",
   "metadata": {},
   "source": [
    "### 结论\n",
    "1. 未对离散点进行过滤，对离散点的处理效果较差\n",
    "2. 处理后有部分非地形点得以保留，需要调整为合适的参数。"
   ]
  },
  {
   "cell_type": "markdown",
   "id": "50a12395-3442-4a74-87ef-2a9ea8619c14",
   "metadata": {},
   "source": [
    "## 形态法滤波"
   ]
  },
  {
   "cell_type": "markdown",
   "id": "6fc91fa9",
   "metadata": {},
   "source": [
    "使用`text.cpp`在`filter.cpp`中进行测试。"
   ]
  }
 ],
 "metadata": {
  "interpreter": {
   "hash": "e42634819b8c191a5d07eaf23810ff32516dd8d3875f28ec3e488928fbd3c187"
  },
  "kernelspec": {
   "display_name": "Python 3 (ipykernel)",
   "language": "python",
   "name": "python3"
  },
  "language_info": {
   "codemirror_mode": {
    "name": "ipython",
    "version": 3
   },
   "file_extension": ".py",
   "mimetype": "text/x-python",
   "name": "python",
   "nbconvert_exporter": "python",
   "pygments_lexer": "ipython3",
   "version": "3.9.7"
  }
 },
 "nbformat": 4,
 "nbformat_minor": 5
}
